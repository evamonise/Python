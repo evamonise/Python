{
  "nbformat": 4,
  "nbformat_minor": 0,
  "metadata": {
    "colab": {
      "provenance": [],
      "authorship_tag": "ABX9TyM+zf+82wUZ29qeJmKG+ieV",
      "include_colab_link": true
    },
    "kernelspec": {
      "name": "python3",
      "display_name": "Python 3"
    },
    "language_info": {
      "name": "python"
    }
  },
  "cells": [
    {
      "cell_type": "markdown",
      "metadata": {
        "id": "view-in-github",
        "colab_type": "text"
      },
      "source": [
        "<a href=\"https://colab.research.google.com/github/evamonise/Python/blob/main/Atividade_Cloves.ipynb\" target=\"_parent\"><img src=\"https://colab.research.google.com/assets/colab-badge.svg\" alt=\"Open In Colab\"/></a>"
      ]
    },
    {
      "cell_type": "markdown",
      "source": [
        "1. Faça um CÓDIGO que mostre a mensagem \"Olá ETE PORTO DIGITAL!\" na tela."
      ],
      "metadata": {
        "id": "G1g_GbSaQcwI"
      }
    },
    {
      "cell_type": "code",
      "source": [
        "mensagem = (\"Olá ETE PORTO DIGITAL!\")\n",
        "print(mensagem)"
      ],
      "metadata": {
        "colab": {
          "base_uri": "https://localhost:8080/"
        },
        "id": "BXT6woZVQK7Z",
        "outputId": "202a2c05-5cd4-4cb0-8d3e-46eea4d41e59"
      },
      "execution_count": 7,
      "outputs": [
        {
          "output_type": "stream",
          "name": "stdout",
          "text": [
            "Olá ETE PORTO DIGITAL!\n"
          ]
        }
      ]
    },
    {
      "cell_type": "markdown",
      "source": [
        "2. Faça um CÓDIGO que peça um número e então mostre a mensagem O número informado foi [número]."
      ],
      "metadata": {
        "id": "mr6CXefKQI3a"
      }
    },
    {
      "cell_type": "code",
      "source": [
        "numero = input(\"Digite um número: \")\n",
        "print(\"O número digitado foi:\",numero)"
      ],
      "metadata": {
        "colab": {
          "base_uri": "https://localhost:8080/"
        },
        "id": "RgnpbiUKQJkK",
        "outputId": "675063b5-88ed-4cd9-8e67-0082ca416bbb"
      },
      "execution_count": 10,
      "outputs": [
        {
          "output_type": "stream",
          "name": "stdout",
          "text": [
            "Digite um número: 18\n",
            "O número digitado foi: 18\n"
          ]
        }
      ]
    },
    {
      "cell_type": "markdown",
      "source": [
        "3. Faça um CÓDIGO que peça dois números e imprima a soma."
      ],
      "metadata": {
        "id": "q_MdIvqgQMLJ"
      }
    },
    {
      "cell_type": "code",
      "source": [
        "numero1 = float(input(\"Digite um número: \"))\n",
        "numero2 = float(input(\"Digite outro número: \"))\n",
        "soma = numero1 + numero2\n",
        "print(\"A soma dos números digitado é: \",soma)"
      ],
      "metadata": {
        "colab": {
          "base_uri": "https://localhost:8080/"
        },
        "id": "ECD9_cshQGQD",
        "outputId": "7ef445c2-6c93-4aad-b06c-de4a85f1e645"
      },
      "execution_count": 11,
      "outputs": [
        {
          "output_type": "stream",
          "name": "stdout",
          "text": [
            "Digite um número: 2\n",
            "Digite outro número: 3\n",
            "A soma dos números digitado é:  5.0\n"
          ]
        }
      ]
    },
    {
      "cell_type": "markdown",
      "source": [
        "4. Faça um CÓDIGO que peça as 4 notas bimestrais e mostre a média final."
      ],
      "metadata": {
        "id": "OoZmhmcqQN-K"
      }
    },
    {
      "cell_type": "code",
      "source": [
        "nota1 = float(input(\"digita a 1° nota: \"))\n",
        "nota2 = float(input(\"digite a 2° nota: \"))\n",
        "nota3 = float(input(\"digite a 3° nota: \"))\n",
        "nota4 = float(input(\"digite a 4° nota: \"))\n",
        "media = ((nota1 + nota2 + nota3 + nota4)/4)\n",
        "print(\"Média das notas: \", media)"
      ],
      "metadata": {
        "colab": {
          "base_uri": "https://localhost:8080/"
        },
        "id": "ay5OEhcsQOv4",
        "outputId": "edcc5791-8d3f-4a03-be63-839fec5c63c6"
      },
      "execution_count": 14,
      "outputs": [
        {
          "output_type": "stream",
          "name": "stdout",
          "text": [
            "digita a 1° nota: 7\n",
            "digite a 2° nota: 6\n",
            "digite a 3° nota: 9\n",
            "digite a 4° nota: 4\n",
            "Média das notas:  6.5\n"
          ]
        }
      ]
    },
    {
      "cell_type": "markdown",
      "source": [
        "5. Faça um CÓDIGO que converta metros para centímetros."
      ],
      "metadata": {
        "id": "ZVAzo3wYQPg4"
      }
    },
    {
      "cell_type": "code",
      "source": [
        "metro = float(input(\"digita um valor em metro: \"))\n",
        "centimetros = metro * 100\n",
        "print(\"O valor em centimetros é: \", centimetros)"
      ],
      "metadata": {
        "colab": {
          "base_uri": "https://localhost:8080/"
        },
        "id": "o0eA5OlVQP04",
        "outputId": "3d23302b-c1bc-49af-846f-ac971499acf8"
      },
      "execution_count": 16,
      "outputs": [
        {
          "output_type": "stream",
          "name": "stdout",
          "text": [
            "digita um valor em metro: 50\n",
            "O valor em centimetros é:  5000.0\n"
          ]
        }
      ]
    },
    {
      "cell_type": "markdown",
      "source": [
        "6. Faça um CÓDIGO que peça o raio de um círculo, calcule e mostre sua área."
      ],
      "metadata": {
        "id": "uIMQWLGcQQMJ"
      }
    },
    {
      "cell_type": "code",
      "source": [
        "\n",
        "raio = float(input(\"digite o valor do raio: \"))\n",
        "area =  3.14*(raio*raio)\n",
        "print(\"A área do circulo é: \", area)\n"
      ],
      "metadata": {
        "colab": {
          "base_uri": "https://localhost:8080/"
        },
        "id": "aLwk_tnmVxW4",
        "outputId": "ca2aaa35-9183-4288-adae-89dc7f7a18a8"
      },
      "execution_count": 19,
      "outputs": [
        {
          "output_type": "stream",
          "name": "stdout",
          "text": [
            "digite o valor do raio: 2\n",
            "A área do circulo é:  12.56\n"
          ]
        }
      ]
    },
    {
      "cell_type": "markdown",
      "source": [
        "7. Faça um CÓDIGO que calcule a área de um quadrado, em seguida mostre o dobro desta área para o usuário."
      ],
      "metadata": {
        "id": "7V9-JOSPQQvg"
      }
    },
    {
      "cell_type": "code",
      "source": [
        "lado = float(input(\"digite um valor para o lado do quadrado: \"))\n",
        "area = lado * lado\n",
        "dobroArea = area * 2\n",
        "print(\"A área do quadrado é: \",area)\n",
        "print(\"O dobro da área do quadrado é:\", dobroArea)\n"
      ],
      "metadata": {
        "colab": {
          "base_uri": "https://localhost:8080/"
        },
        "id": "39B4SnH_QRNR",
        "outputId": "4f0e4253-c1a7-48b3-e735-2d2e9565f6e3"
      },
      "execution_count": 20,
      "outputs": [
        {
          "output_type": "stream",
          "name": "stdout",
          "text": [
            "digite um valor para o lado do quadrado: 2\n",
            "A área do quadrado é:  4.0\n",
            "O dobro da área do quadrado é: 8.0\n"
          ]
        }
      ]
    },
    {
      "cell_type": "markdown",
      "source": [
        "8. Faça um CÓDIGO que pergunte quanto você ganha por hora e o número de horas trabalhadas no mês. Calcule e mostre o total do seu salário no referido mês."
      ],
      "metadata": {
        "id": "x97lxZ80QRdA"
      }
    },
    {
      "cell_type": "code",
      "source": [
        "valorPorHora = float(input(\"Quanto você ganha por hora? \"))\n",
        "horasTrabalhadaNoMes = float(input(\"Quantas horas no mês você trabalha? \"))\n",
        "Salario = valorPorHora * horasTrabalhadaNoMes\n",
        "print(\"Você ganhará:\",Salario,\"por mês\")\n"
      ],
      "metadata": {
        "colab": {
          "base_uri": "https://localhost:8080/"
        },
        "id": "O6Yf_LPxY4Gr",
        "outputId": "569e27be-e295-4a0f-997c-d9e7df48b6de"
      },
      "execution_count": 27,
      "outputs": [
        {
          "output_type": "stream",
          "name": "stdout",
          "text": [
            "Quanto você ganha por hora? 8\n",
            "Quantas horas no mês você trabalha? 80\n",
            "Você ganhará: 640.0 por mês\n"
          ]
        }
      ]
    },
    {
      "cell_type": "markdown",
      "source": [
        "9. Faça um CÓDIGO que peça um valor e mostre na tela se o valor é positivo ou negativo."
      ],
      "metadata": {
        "id": "eEDmOlHvQSWQ"
      }
    },
    {
      "cell_type": "code",
      "source": [
        "valor = float(input(\"digite um valor: \"))\n",
        "\n",
        "if valor > 0:\n",
        " print(\"O valor é positivo\")\n",
        "elif valor < 0:\n",
        " print(\"O valor é negativo\")\n"
      ],
      "metadata": {
        "colab": {
          "base_uri": "https://localhost:8080/"
        },
        "id": "ZYy7UfewQS0A",
        "outputId": "a187581c-a60b-4763-ec38-ffad88f22884"
      },
      "execution_count": 39,
      "outputs": [
        {
          "output_type": "stream",
          "name": "stdout",
          "text": [
            "digite um valor: -9\n",
            "O valor é negativo\n"
          ]
        }
      ]
    },
    {
      "cell_type": "markdown",
      "source": [
        "10. Faça um CÓDIGO que verifique se uma letra digitada é \"F\" ou \"M\". Conforme a letra escrever: F - Feminino, M - Masculino, Sexo Inválido."
      ],
      "metadata": {
        "id": "j4GqpzfuQTBI"
      }
    },
    {
      "cell_type": "code",
      "source": [
        "letra = input(\"Digite uma letra: \")\n",
        "\n",
        "if letra == \"F\" or letra == \"f\":\n",
        "    print(\"F - Feminino\")\n",
        "elif letra == \"M\" or letra == \"m\":\n",
        "    print(\"M - Masculino\")\n",
        "else:\n",
        "    print(\"Sexo Inválido\")"
      ],
      "metadata": {
        "colab": {
          "base_uri": "https://localhost:8080/"
        },
        "id": "wtb2VCC0QTZa",
        "outputId": "37d7c676-34b2-4ae8-9ba3-8ad955354c5e"
      },
      "execution_count": 41,
      "outputs": [
        {
          "output_type": "stream",
          "name": "stdout",
          "text": [
            "Digite uma letra: M\n",
            "M - Masculino\n"
          ]
        }
      ]
    }
  ]
}